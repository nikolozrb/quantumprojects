{
  "cells": [
    {
      "cell_type": "markdown",
      "metadata": {},
      "source": [
        "\n",
        "# The Iris Dataset QNN hybrid solution\n",
        "This data sets consists of 3 different types of irises'\n",
        "(Setosa, Versicolour, and Virginica) petal and sepal\n",
        "length, stored in a 150x4 numpy.ndarray\n",
        "\n",
        "The rows being the samples and the columns being:\n",
        "Sepal Length, Sepal Width, Petal Length and Petal Width.\n",
        "\n",
        "The below plot uses the first two features.\n",
        "See [here](https://en.wikipedia.org/wiki/Iris_flower_data_set) for more\n",
        "information on this dataset.\n"
      ]
    },
    {
      "cell_type": "markdown",
      "metadata": {},
      "source": [
        "## Loading the iris dataset\n",
        "\n"
      ]
    },
    {
      "cell_type": "code",
      "execution_count": 3,
      "metadata": {
        "collapsed": false
      },
      "outputs": [],
      "source": [
        "from sklearn import model_selection, datasets, svm\n",
        "from qiskit import QuantumCircuit,transpile, AncillaRegister,AncillaRegister, QuantumRegister, ClassicalRegister, assemble\n",
        "from qiskit_aer import AerSimulator\n",
        "import numpy as np\n",
        "import matplotlib.pyplot as plt\n",
        "import copy\n",
        "iris = datasets.load_iris()\n",
        "X=iris.data[0:100]\n",
        "Y=iris.target[0:100]\n",
        "X_train, X_test, Y_train, Y_test=model_selection.train_test_split(X,Y,test_size=0.33,random_state=42)"
      ]
    },
    {
      "cell_type": "code",
      "execution_count": 92,
      "metadata": {},
      "outputs": [
        {
          "name": "stdout",
          "output_type": "stream",
          "text": [
            "[0 1 0 1 1 0 0 0 0 0 1 0 0 1 0 1 0 0 0 0 0 0 1 0 1 0 1 1 1 1 0 1 1 0 1 1 1\n",
            " 1 0 1 0 1 1 1 0 1 1 1 1 0 0 0 1 0 0 0 1 1 1 1 1 0 1 1 0 1 1]\n"
          ]
        }
      ],
      "source": [
        "print(Y_train)"
      ]
    },
    {
      "cell_type": "code",
      "execution_count": 4,
      "metadata": {},
      "outputs": [
        {
          "name": "stdout",
          "output_type": "stream",
          "text": [
            "[5.2 3.4 1.4 0.2]\n"
          ]
        }
      ],
      "source": [
        "print(X_train[0])"
      ]
    },
    {
      "cell_type": "code",
      "execution_count": 5,
      "metadata": {},
      "outputs": [],
      "source": [
        "N=4"
      ]
    },
    {
      "cell_type": "code",
      "execution_count": 6,
      "metadata": {},
      "outputs": [],
      "source": [
        "def feature_map(X):\n",
        "    q=QuantumRegister(N)\n",
        "    c=ClassicalRegister(1)\n",
        "    qc=QuantumCircuit(q,c)\n",
        "    #qc.draw(\"mpl\")\n",
        "    for i, x in enumerate(X):\n",
        "        qc.rx(x,i)\n",
        "    return qc, c    "
      ]
    },
    {
      "cell_type": "code",
      "execution_count": 7,
      "metadata": {},
      "outputs": [],
      "source": [
        "def variational_circuit(qc,theta):\n",
        "    for i in range(N-1):\n",
        "        qc.cx(i,i+1)\n",
        "    qc.cx(N-1,0)\n",
        "    for i in range(N):\n",
        "        qc.ry(theta[i],i)\n",
        "    return qc        "
      ]
    },
    {
      "cell_type": "code",
      "execution_count": 8,
      "metadata": {},
      "outputs": [],
      "source": [
        "def quantum_nn(X,theta,simulator=True):\n",
        "    qc,c=feature_map(X_train[0])\n",
        "    qc.barrier()\n",
        "    qc=variational_circuit(qc,theta)\n",
        "    qc.barrier()\n",
        "    qc.measure(0,c) \n",
        " \n",
        "    simulator = AerSimulator()\n",
        "    circ = transpile(qc, simulator)\n",
        "    shots=1E4\n",
        "# Run and get counts\n",
        "    #result = simulator.run(circ,shots, memory=True).result()\n",
        "    result = simulator.run(circ).result()\n",
        "    counts = result.get_counts(circ) \n",
        "    #print(counts)\n",
        "    #print(counts['1'])\n",
        "    \n",
        "    return counts['1']/shots "
      ]
    },
    {
      "cell_type": "code",
      "execution_count": 9,
      "metadata": {},
      "outputs": [],
      "source": [
        "def loss(prediction,target):\n",
        "    return (prediction-target)"
      ]
    },
    {
      "cell_type": "code",
      "execution_count": 10,
      "metadata": {},
      "outputs": [
        {
          "data": {
            "text/plain": [
              "np.float64(0.0593)"
            ]
          },
          "execution_count": 10,
          "metadata": {},
          "output_type": "execute_result"
        }
      ],
      "source": [
        "prediction=quantum_nn(X_train[6],np.random.rand(N))\n",
        "target=Y_train[6]\n",
        "loss(prediction,target)\n",
        "#qc.draw('mpl')"
      ]
    },
    {
      "cell_type": "code",
      "execution_count": 11,
      "metadata": {},
      "outputs": [],
      "source": [
        "def gradient(X,Y,theta):\n",
        "    delta=0.01\n",
        "    grad=[]\n",
        "    for i in range(len(theta)):\n",
        "        dtheta=copy.copy(theta)\n",
        "        dtheta[i]+=delta\n",
        "        pred1=quantum_nn(X,dtheta)\n",
        "        pred2=quantum_nn(X,theta)\n",
        "        grad.append((loss(pred1,Y)-loss(pred2,Y))/delta)\n",
        "    \n",
        "    return np.array(grad)\n"
      ]
    },
    {
      "cell_type": "code",
      "execution_count": 12,
      "metadata": {},
      "outputs": [],
      "source": [
        "def accuracy(X,Y,theta):\n",
        "    counter=0\n",
        "    for X_i,Y_i in zip(X,Y):\n",
        "        prediction=quantum_nn(X_i,theta)\n",
        "        if prediction<0.5 and Y_i==0:\n",
        "            counter+=1\n",
        "        elif prediction>=0.5 and Y_i==1:\n",
        "            counter+=1\n",
        "\n",
        "    return counter/len(Y)        \n",
        "    \n"
      ]
    },
    {
      "cell_type": "code",
      "execution_count": 13,
      "metadata": {},
      "outputs": [
        {
          "name": "stdout",
          "output_type": "stream",
          "text": [
            "Epoch \t Loss \t Training Accuracy\n",
            "0\t -0.482 \t 0.463\n",
            "1\t -0.481 \t 0.463\n",
            "2\t -0.481 \t 0.463\n",
            "3\t -0.481 \t 0.463\n",
            "4\t -0.481 \t 0.463\n",
            "5\t -0.482 \t 0.463\n",
            "6\t -0.482 \t 0.463\n",
            "7\t -0.483 \t 0.463\n",
            "8\t -0.483 \t 0.463\n",
            "9\t -0.483 \t 0.463\n"
          ]
        }
      ],
      "source": [
        "eta=0.05\n",
        "loss_list=[]\n",
        "theta=np.ones(N)\n",
        "print('Epoch \\t Loss \\t Training Accuracy')\n",
        "for i in range(10):\n",
        "    loss_tmp=[]\n",
        "    for X_i,Y_i in zip(X_train,Y_train):\n",
        "        prediction=quantum_nn(X_i,theta)\n",
        "        loss_tmp.append(loss(prediction,Y_i))\n",
        "        theta=theta-eta*gradient(X_i,Y_i,theta)\n",
        "    loss_list.append(np.mean(loss_tmp))\n",
        "    acc=accuracy(X_train,Y_train,theta)\n",
        "\n",
        "    print(f'{i}\\t {loss_list[-1]:.3f} \\t {acc:.3f}')\n"
      ]
    },
    {
      "cell_type": "code",
      "execution_count": 14,
      "metadata": {},
      "outputs": [
        {
          "data": {
            "image/png": "[encoded data removed]",
            "text/plain": [
              "<Figure size 640x480 with 1 Axes>"
            ]
          },
          "metadata": {},
          "output_type": "display_data"
        }
      ],
      "source": [
        "plt.plot(loss_list)\n",
        "plt.xlabel('Epoch')\n",
        "plt.ylabel('Loss')\n",
        "plt.show()"
      ]
    }
  ],
  "metadata": {
    "kernelspec": {
      "display_name": "Python 3",
      "language": "python",
      "name": "python3"
    },
    "language_info": {
      "codemirror_mode": {
        "name": "ipython",
        "version": 3
      },
      "file_extension": ".py",
      "mimetype": "text/x-python",
      "name": "python",
      "nbconvert_exporter": "python",
      "pygments_lexer": "ipython3",
      "version": "3.9.5"
    }
  },
  "nbformat": 4,
  "nbformat_minor": 0
}
